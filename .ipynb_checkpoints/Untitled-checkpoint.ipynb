{
 "cells": [
  {
   "cell_type": "code",
   "execution_count": 4,
   "metadata": {},
   "outputs": [],
   "source": [
    "import json"
   ]
  },
  {
   "cell_type": "code",
   "execution_count": 5,
   "metadata": {},
   "outputs": [
    {
     "name": "stdout",
     "output_type": "stream",
     "text": [
      "codetype?forward\n",
      "steps?10\n",
      "{\"codetype\": \"forward\", \"steps\": \"10\"}\n"
     ]
    }
   ],
   "source": [
    "codetype = input(\"codetype?\")\n",
    "steps = input(\"steps?\")\n",
    "\n",
    "inputInfo = json.dumps({'codetype':codetype, 'steps':steps})\n",
    "print(json.dumps({'codetype':codetype, 'steps':steps}))"
   ]
  },
  {
   "cell_type": "code",
   "execution_count": 7,
   "metadata": {},
   "outputs": [],
   "source": [
    "file = 'scratch.json'\n",
    "with open(file, 'w') as obj:\n",
    "    json.dump({'codetype':codetype, 'steps':steps}, obj)"
   ]
  },
  {
   "cell_type": "code",
   "execution_count": null,
   "metadata": {},
   "outputs": [],
   "source": []
  }
 ],
 "metadata": {
  "kernelspec": {
   "display_name": "Python 3",
   "language": "python",
   "name": "python3"
  },
  "language_info": {
   "codemirror_mode": {
    "name": "ipython",
    "version": 3
   },
   "file_extension": ".py",
   "mimetype": "text/x-python",
   "name": "python",
   "nbconvert_exporter": "python",
   "pygments_lexer": "ipython3",
   "version": "3.8.5"
  }
 },
 "nbformat": 4,
 "nbformat_minor": 4
}
