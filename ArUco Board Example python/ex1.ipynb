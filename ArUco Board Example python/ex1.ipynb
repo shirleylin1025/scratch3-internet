{
 "cells": [
  {
   "cell_type": "code",
   "execution_count": 2,
   "metadata": {},
   "outputs": [
    {
     "data": {
      "image/png": "[encoded data removed]",
      "text/plain": [
       "<Figure size 432x288 with 81 Axes>"
      ]
     },
     "metadata": {
      "needs_background": "light"
     },
     "output_type": "display_data"
    }
   ],
   "source": [
    "# %load ex1.py\n",
    "\n",
    "import numpy as np\n",
    "import cv2, PIL\n",
    "import cv2.aruco as ar\n",
    "import matplotlib.pyplot as plt\n",
    "import matplotlib as mpl\n",
    "import pandas as pd\n",
    "\n",
    "\n",
    "aruco_dict = ar.Dictionary_get(ar.DICT_6X6_250)\n",
    "\n",
    "fig = plt.figure()\n",
    "nx = 9\n",
    "ny = 9\n",
    "for i in range(1, nx*ny+1):\n",
    "    ax = fig.add_subplot(ny,nx, i)\n",
    "    img = ar.drawMarker(aruco_dict,i, 700)\n",
    "    plt.imshow(img, cmap = mpl.cm.gray, interpolation = \"nearest\")\n",
    "    ax.axis(\"off\")\n",
    "\n",
    "plt.savefig(\"markers.pdf\")\n",
    "plt.show()"
   ]
  },
  {
   "cell_type": "code",
   "execution_count": null,
   "metadata": {},
   "outputs": [],
   "source": []
  }
 ],
 "metadata": {
  "kernelspec": {
   "display_name": "Python 3",
   "language": "python",
   "name": "python3"
  },
  "language_info": {
   "codemirror_mode": {
    "name": "ipython",
    "version": 3
   },
   "file_extension": ".py",
   "mimetype": "text/x-python",
   "name": "python",
   "nbconvert_exporter": "python",
   "pygments_lexer": "ipython3",
   "version": "3.8.5"
  }
 },
 "nbformat": 4,
 "nbformat_minor": 4
}
