{
 "cells": [
  {
   "cell_type": "code",
   "execution_count": 1,
   "metadata": {},
   "outputs": [],
   "source": [
    "import json"
   ]
  },
  {
   "cell_type": "code",
   "execution_count": 2,
   "metadata": {
    "scrolled": true
   },
   "outputs": [],
   "source": [
    "#for repeatUntil fun\n",
    "inputInfo = []\n",
    "repeatInfo = []\n",
    "def inputCodetype():\n",
    "    inputInfo = []\n",
    "    while True:\n",
    "        codeType = input(\"codetype?\")\n",
    "        if codeType == \"repeatUntil\":\n",
    "            repeatInfo = []\n",
    "            while True:\n",
    "                codeType = input(\"codeType?\")\n",
    "                repeatInfo.append({'codeType':codeType})\n",
    "                if codeType == \"End\":\n",
    "                    inputInfo.append({'codeType':'repeatUntil','repeat':repeatInfo})\n",
    "                    break\n",
    "        if codeType == \"End\":\n",
    "            break\n",
    "    print(inputInfo)"
   ]
  },
  {
   "cell_type": "code",
   "execution_count": 3,
   "metadata": {},
   "outputs": [],
   "source": [
    "def updateJson():\n",
    "    file = 'scratch.json'\n",
    "    with open(file, 'w') as obj:\n",
    "        json.dump(inputInfo, obj)"
   ]
  },
  {
   "cell_type": "code",
   "execution_count": 4,
   "metadata": {},
   "outputs": [],
   "source": [
    "from git import Repo\n",
    "import os\n",
    "\n",
    "def updateToRepo():\n",
    "    dirfile = os.path.abspath('.') \n",
    "    repo = Repo(dirfile)\n",
    "\n",
    "    g = repo.git\n",
    "    g.add(\"--all\")\n",
    "    g.commit(\"-m auto update\")\n",
    "    g.push()\n",
    "    print(\"Successful push!\")\n",
    "\n"
   ]
  },
  {
   "cell_type": "code",
   "execution_count": null,
   "metadata": {},
   "outputs": [
    {
     "name": "stdout",
     "output_type": "stream",
     "text": [
      "[]\n"
     ]
    }
   ],
   "source": [
    "import tkinter as tk\n",
    "\n",
    "window = tk.Tk()\n",
    "window.geometry('800x100')\n",
    "\n",
    "strCodetype = 'code type:'\n",
    "labelCodetype = tk.Label(window, text=strCodetype)\n",
    "labelCodetype.place(x = 0, y = 30)\n",
    "\n",
    "\n",
    "\n",
    "IsReapeatUntil = False\n",
    "\n",
    "def repeatUntil(IsReapeatUntil):\n",
    "    if not IsReapeatUntil :\n",
    "        IsReapeatUntil = True\n",
    "        repeatInfo = []\n",
    "        print(repeatInfo)\n",
    "    else :\n",
    "        inputInfo.append({'codeType':'repeatUntil','repeat':repeatInfo})\n",
    "        IsReapeatUntil = False      \n",
    "    \n",
    "    \n",
    "def trunLeft():\n",
    "    repeatInfo.append({'codeType':'left'})\n",
    "     \n",
    "    \n",
    "def trunRight():\n",
    "    repeatInfo.append({'codeType':'right'})\n",
    "    \n",
    "def forward():\n",
    "    repeatInfo.append({'codeType':'forward'})\n",
    "    \n",
    "def backward():\n",
    "    repeatInfo.append({'codeType':'backward'})\n",
    "    \n",
    "def updateToScratch():\n",
    "    updateJson()\n",
    "    updateToRepo()\n",
    "\n",
    "\n",
    "    \n",
    "buttonRepeatUntil = tk.Button(window, text='repeat until', command = repeatUntil(IsReapeatUntil))\n",
    "buttonRepeatUntil.place(x = 0, y = 0)\n",
    "\n",
    "buttonTrunLeft = tk.Button(window, text='turn left', command = trunLeft)\n",
    "buttonTrunLeft.place(x = 150, y = 0)\n",
    "\n",
    "buttonTrunRight = tk.Button(window, text='turn right', command = trunRight)\n",
    "buttonTrunRight.place(x = 300, y = 0)\n",
    "\n",
    "buttonForward = tk.Button(window, text='forward', command = forward)\n",
    "buttonForward.place(x = 450, y = 0)\n",
    "\n",
    "buttonBackward = tk.Button(window, text='backward~', command = backward)\n",
    "buttonBackward.place(x = 600, y = 10)\n",
    "\n",
    "buttonUpdateToScratch = tk.Button(window, text='updateToScratch', command = updateToScratch)\n",
    "buttonBackward.place(x = 0, y = 50)\n",
    "\n",
    "\n",
    "\n",
    "window.mainloop()"
   ]
  },
  {
   "cell_type": "code",
   "execution_count": null,
   "metadata": {},
   "outputs": [],
   "source": []
  },
  {
   "cell_type": "code",
   "execution_count": null,
   "metadata": {},
   "outputs": [],
   "source": []
  },
  {
   "cell_type": "code",
   "execution_count": null,
   "metadata": {},
   "outputs": [],
   "source": []
  }
 ],
 "metadata": {
  "kernelspec": {
   "display_name": "Python 3",
   "language": "python",
   "name": "python3"
  },
  "language_info": {
   "codemirror_mode": {
    "name": "ipython",
    "version": 3
   },
   "file_extension": ".py",
   "mimetype": "text/x-python",
   "name": "python",
   "nbconvert_exporter": "python",
   "pygments_lexer": "ipython3",
   "version": "3.8.5"
  }
 },
 "nbformat": 4,
 "nbformat_minor": 4
}
