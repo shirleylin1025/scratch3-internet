{
 "cells": [
  {
   "cell_type": "code",
   "execution_count": 6,
   "metadata": {},
   "outputs": [],
   "source": [
    "import json"
   ]
  },
  {
   "cell_type": "code",
   "execution_count": 7,
   "metadata": {
    "scrolled": true
   },
   "outputs": [
    {
     "name": "stdout",
     "output_type": "stream",
     "text": [
      "codetype?repeatUntil\n",
      "codeType?left\n",
      "codeType?right\n",
      "codeType?End\n",
      "[{'codeType': 'repeatUntil', 'repeat': [{'codeType': 'left'}, {'codeType': 'right'}, {'codeType': 'End'}]}]\n"
     ]
    }
   ],
   "source": [
    "inputInfo = []\n",
    "while True:\n",
    "    codeType = input(\"codetype?\")\n",
    "    if codeType == \"repeatUntil\":\n",
    "        repeatInfo = []\n",
    "        while True:\n",
    "            codeType = input(\"codeType?\")\n",
    "            repeatInfo.append({'codeType':codeType})\n",
    "            if codeType == \"End\":\n",
    "                inputInfo.append({'codeType':'repeatUntil','repeat':repeatInfo})\n",
    "                break\n",
    "    if codeType == \"End\":\n",
    "        break\n",
    "print(inputInfo)"
   ]
  },
  {
   "cell_type": "code",
   "execution_count": 8,
   "metadata": {},
   "outputs": [],
   "source": [
    "file = 'scratch.json'\n",
    "with open(file, 'w') as obj:\n",
    "    json.dump(inputInfo, obj)"
   ]
  },
  {
   "cell_type": "code",
   "execution_count": 9,
   "metadata": {},
   "outputs": [
    {
     "name": "stdout",
     "output_type": "stream",
     "text": [
      "Successful push!\n"
     ]
    }
   ],
   "source": [
    "from git import Repo\n",
    "import os\n",
    "\n",
    "dirfile = os.path.abspath('.') \n",
    "repo = Repo(dirfile)\n",
    "\n",
    "g = repo.git\n",
    "g.add(\"--all\")\n",
    "g.commit(\"-m auto update\")\n",
    "g.push()\n",
    "print(\"Successful push!\")\n",
    "\n"
   ]
  },
  {
   "cell_type": "code",
   "execution_count": null,
   "metadata": {},
   "outputs": [],
   "source": []
  }
 ],
 "metadata": {
  "kernelspec": {
   "display_name": "Python 3",
   "language": "python",
   "name": "python3"
  },
  "language_info": {
   "codemirror_mode": {
    "name": "ipython",
    "version": 3
   },
   "file_extension": ".py",
   "mimetype": "text/x-python",
   "name": "python",
   "nbconvert_exporter": "python",
   "pygments_lexer": "ipython3",
   "version": "3.8.5"
  }
 },
 "nbformat": 4,
 "nbformat_minor": 4
}
