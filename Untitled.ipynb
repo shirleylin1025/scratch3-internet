{
 "cells": [
  {
   "cell_type": "code",
   "execution_count": 3,
   "metadata": {},
   "outputs": [],
   "source": [
    "import json"
   ]
  },
  {
   "cell_type": "code",
   "execution_count": 92,
   "metadata": {
    "scrolled": true
   },
   "outputs": [],
   "source": [
    "#for repeatUntil fun\n",
    "inputInfo = {}\n",
    "repeatInfo = []\n",
    "arrayInfo = []\n",
    "defineInfo = {}\n",
    "def inputCodetype():\n",
    "    codeType = input(\"codetype?\")\n",
    "    \n",
    "    if codeType == 'define':\n",
    "        define\n",
    "        \n",
    "            \n",
    "        \n",
    "        \n",
    "        \n",
    "        '''\n",
    "        while True:\n",
    "            defineItem = input(\"codetype?\")\n",
    "            if defineItem == \"End\":\n",
    "                inputInfo.append(defineInfo)\n",
    "                break\n",
    "            #defineInfo.append({'define':defineItem})\n",
    "            if defineItem == 'set':\n",
    "                setItemInfo = []\n",
    "                setItem = input(\"set?\") # set \"A\" to B\n",
    "                setItemInfo.append(setItem)\n",
    "                setItem = input(\"set?\") # set A to \"B\"\n",
    "                setItemInfo.append(setItem)\n",
    "                \n",
    "                defineInfo.append({'define':{'set':setItemInfo}})\n",
    "        \n",
    "            if defineItem == 'replace':\n",
    "                replaceItemInfo = []\n",
    "                replaceItem = input(\"replace?\") # replace \"A\" with B\n",
    "                setItemInfo.append(setItem)\n",
    "                replaceItem = input(\"replace?\") # replace A with \"B\"\n",
    "                setItemInfo.append(setItem)\n",
    "       '''         \n",
    "            \n",
    "\n",
    "    print(inputInfo)"
   ]
  },
  {
   "cell_type": "code",
   "execution_count": 67,
   "metadata": {},
   "outputs": [],
   "source": [
    "def updateJson():\n",
    "    global inputInfo\n",
    "    print(inputInfo)\n",
    "    file = 'scratch.json'\n",
    "    with open(file, 'w', encoding='utf-8') as obj:\n",
    "        json.dump(inputInfo, obj)"
   ]
  },
  {
   "cell_type": "code",
   "execution_count": 68,
   "metadata": {},
   "outputs": [],
   "source": [
    "from git import Repo\n",
    "\n",
    "import os\n",
    "\n",
    "def updateToRepo():\n",
    "\n",
    "    dirfile = os.path.abspath('.') \n",
    "    repo = Repo(dirfile)\n",
    "\n",
    "    g = repo.git\n",
    "    g.add(\"--all\")\n",
    "    g.commit(\"-m auto update\")\n",
    "    g.push()\n",
    "    print(\"Successful push!\")\n",
    "\n"
   ]
  },
  {
   "cell_type": "code",
   "execution_count": 69,
   "metadata": {},
   "outputs": [],
   "source": [
    "\n",
    "def repeatUntil():\n",
    "    global IsReapeatUntil, repeatInfo, inputInfo, strCodetype\n",
    "    if not IsReapeatUntil :\n",
    "        buttonRepeatUntil['fg']='red'\n",
    "        IsReapeatUntil = True\n",
    "        repeatInfo = []\n",
    "        strCodetype += ' Repeat '\n",
    "        labelCodetype['text'] = strCodetype\n",
    "        print(repeatInfo)\n",
    "        \n",
    "    else :\n",
    "        buttonRepeatUntil['fg']='black'\n",
    "        inputInfo.append({'codeType':'repeatUntil','repeat':repeatInfo})\n",
    "        print(inputInfo)\n",
    "        IsReapeatUntil = False      \n",
    "    \n",
    "    \n",
    "def trunLeft():\n",
    "    global strCodetype\n",
    "    repeatInfo.append({'codeType':'left'})\n",
    "    strCodetype += ' TrunLeft '\n",
    "    labelCodetype['text'] = strCodetype\n",
    "    \n",
    "def trunRight():\n",
    "    global strCodetype\n",
    "    repeatInfo.append({'codeType':'right'})\n",
    "    strCodetype += ' TrunRight '\n",
    "    labelCodetype['text'] = strCodetype\n",
    "    \n",
    "def forward():\n",
    "    global strCodetype\n",
    "    repeatInfo.append({'codeType':'forward'})\n",
    "    strCodetype += ' Forward '\n",
    "    labelCodetype['text'] = strCodetype\n",
    "    \n",
    "def backward():\n",
    "    global strCodetype\n",
    "    repeatInfo.append({'codeType':'backward'})\n",
    "    strCodetype += ' Backward '\n",
    "    labelCodetype['text'] = strCodetype\n",
    "    \n",
    "def updateToScratch():\n",
    "    updateJson()\n",
    "    print(inputInfo)\n",
    "    updateToRepo()"
   ]
  },
  {
   "cell_type": "code",
   "execution_count": 70,
   "metadata": {},
   "outputs": [],
   "source": [
    "def array():\n",
    "    if codeType == 'arrayAdd':\n",
    "        arrayItem = input(\"arrayAdd?\")\n",
    "        arrayInfo.append(arrayItem)\n",
    "    if codeType == \"End\":\n",
    "        inputInfo.append({'array':arrayInfo})"
   ]
  },
  {
   "cell_type": "code",
   "execution_count": 93,
   "metadata": {
    "scrolled": false
   },
   "outputs": [
    {
     "name": "stdout",
     "output_type": "stream",
     "text": [
      "codetype?define\n",
      "codetype?set\n",
      "set?A\n",
      "set?B\n",
      "codetype?replace\n",
      "replace?A\n",
      "replace?B\n",
      "codetype?End\n",
      "{'define': {'set': ['A', 'B'], 'replace': ['A', 'B']}}\n"
     ]
    }
   ],
   "source": [
    "inputCodetype()"
   ]
  },
  {
   "cell_type": "code",
   "execution_count": 94,
   "metadata": {
    "scrolled": true
   },
   "outputs": [
    {
     "name": "stdout",
     "output_type": "stream",
     "text": [
      "{'define': {'set': ['A', 'B'], 'replace': ['A', 'B']}}\n"
     ]
    }
   ],
   "source": [
    "updateJson()"
   ]
  },
  {
   "cell_type": "code",
   "execution_count": null,
   "metadata": {},
   "outputs": [],
   "source": [
    "updateToRepo()"
   ]
  },
  {
   "cell_type": "code",
   "execution_count": null,
   "metadata": {},
   "outputs": [],
   "source": []
  },
  {
   "cell_type": "code",
   "execution_count": null,
   "metadata": {},
   "outputs": [],
   "source": []
  },
  {
   "cell_type": "code",
   "execution_count": null,
   "metadata": {},
   "outputs": [],
   "source": []
  }
 ],
 "metadata": {
  "kernelspec": {
   "display_name": "Python 3 (ipykernel)",
   "language": "python",
   "name": "python3"
  },
  "language_info": {
   "codemirror_mode": {
    "name": "ipython",
    "version": 3
   },
   "file_extension": ".py",
   "mimetype": "text/x-python",
   "name": "python",
   "nbconvert_exporter": "python",
   "pygments_lexer": "ipython3",
   "version": "3.9.7"
  }
 },
 "nbformat": 4,
 "nbformat_minor": 4
}
