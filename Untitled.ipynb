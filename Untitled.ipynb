{
 "cells": [
  {
   "cell_type": "code",
   "execution_count": 1,
   "metadata": {},
   "outputs": [],
   "source": [
    "import json"
   ]
  },
  {
   "cell_type": "code",
   "execution_count": 2,
   "metadata": {
    "scrolled": true
   },
   "outputs": [
    {
     "name": "stdout",
     "output_type": "stream",
     "text": [
      "codetype?repeatUntil\n",
      "codeType?forward\n",
      "codeType?left\n",
      "codeType?forward\n",
      "codeType?right\n",
      "codeType?End\n",
      "[{'codeType': 'repeatUntil', 'repeat': [{'codeType': 'forward'}, {'codeType': 'left'}, {'codeType': 'forward'}, {'codeType': 'right'}, {'codeType': 'End'}]}]\n"
     ]
    }
   ],
   "source": [
    "inputInfo = []\n",
    "while True:\n",
    "    codeType = input(\"codetype?\")\n",
    "    if codeType == \"repeatUntil\":\n",
    "        repeatInfo = []\n",
    "        while True:\n",
    "            codeType = input(\"codeType?\")\n",
    "            repeatInfo.append({'codeType':codeType})\n",
    "            if codeType == \"End\":\n",
    "                inputInfo.append({'codeType':'repeatUntil','repeat':repeatInfo})\n",
    "                break\n",
    "    if codeType == \"End\":\n",
    "        break\n",
    "print(inputInfo)"
   ]
  },
  {
   "cell_type": "code",
   "execution_count": 3,
   "metadata": {},
   "outputs": [],
   "source": [
    "#file = 'scratch.json'\n",
    "#with open(file, 'w') as obj:\n",
    "#    json.dump(inputInfo, obj)"
   ]
  },
  {
   "cell_type": "code",
   "execution_count": null,
   "metadata": {},
   "outputs": [],
   "source": [
    "from git import Repo\n",
    "import os\n",
    "\n",
    "repo = git.Repo.init(path='.')\n",
    "file = 'scratch.json'\n",
    "with open(file, 'w') as obj:\n",
    "    json.dump(inputInfo, obj)\n",
    "repo.index.add(items=['scratch.json'])\n",
    "repo.index.commit('update scratch.json')\n",
    "\n",
    "remote = repo.remote()\n",
    "remote.fetch()\n",
    "remote.pull()\n",
    "remote.push()\n"
   ]
  },
  {
   "cell_type": "code",
   "execution_count": null,
   "metadata": {},
   "outputs": [],
   "source": []
  }
 ],
 "metadata": {
  "kernelspec": {
   "display_name": "Python 3",
   "language": "python",
   "name": "python3"
  },
  "language_info": {
   "codemirror_mode": {
    "name": "ipython",
    "version": 3
   },
   "file_extension": ".py",
   "mimetype": "text/x-python",
   "name": "python",
   "nbconvert_exporter": "python",
   "pygments_lexer": "ipython3",
   "version": "3.8.5"
  }
 },
 "nbformat": 4,
 "nbformat_minor": 4
}
