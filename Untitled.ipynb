{
 "cells": [
  {
   "cell_type": "code",
   "execution_count": 1,
   "metadata": {},
   "outputs": [],
   "source": [
    "import json"
   ]
  },
  {
   "cell_type": "code",
   "execution_count": 11,
   "metadata": {
    "scrolled": true
   },
   "outputs": [],
   "source": [
    "#for repeatUntil fun\n",
    "inputInfo = []\n",
    "repeatInfo = []\n",
    "arrayInfo = []\n",
    "def inputCodetype():\n",
    "    while True:\n",
    "        codeType = input(\"codetype?\")\n",
    "        if codeType == 'arrayAdd':\n",
    "            arrayItem = input(\"arrayAdd?\")\n",
    "            arrayInfo.append(arrayItem)\n",
    "        if codeType == \"End\":\n",
    "            inputInfo.append({'array':arrayInfo})\n",
    "            break\n",
    "    print(inputInfo)"
   ]
  },
  {
   "cell_type": "code",
   "execution_count": 3,
   "metadata": {},
   "outputs": [],
   "source": [
    "def updateJson():\n",
    "    global inputInfo\n",
    "    print(inputInfo)\n",
    "    file = 'scratch.json'\n",
    "    with open(file, 'w', encoding='utf-8') as obj:\n",
    "        json.dump(inputInfo, obj)"
   ]
  },
  {
   "cell_type": "code",
   "execution_count": 17,
   "metadata": {},
   "outputs": [],
   "source": [
    "from git import Repo\n",
    "\n",
    "import os\n",
    "\n",
    "def updateToRepo():\n",
    "    user = Github(username, password).get_user()\n",
    "    dirfile = os.path.abspath('.') \n",
    "    repo = Repo(dirfile)\n",
    "\n",
    "    g = repo.git\n",
    "    g.add(\"--all\")\n",
    "    g.commit(\"-m auto update\")\n",
    "    g.push()\n",
    "    print(\"Successful push!\")\n",
    "\n"
   ]
  },
  {
   "cell_type": "code",
   "execution_count": 5,
   "metadata": {},
   "outputs": [],
   "source": [
    "\n",
    "def repeatUntil():\n",
    "    global IsReapeatUntil, repeatInfo, inputInfo, strCodetype\n",
    "    if not IsReapeatUntil :\n",
    "        buttonRepeatUntil['fg']='red'\n",
    "        IsReapeatUntil = True\n",
    "        repeatInfo = []\n",
    "        strCodetype += ' Repeat '\n",
    "        labelCodetype['text'] = strCodetype\n",
    "        print(repeatInfo)\n",
    "        \n",
    "    else :\n",
    "        buttonRepeatUntil['fg']='black'\n",
    "        inputInfo.append({'codeType':'repeatUntil','repeat':repeatInfo})\n",
    "        print(inputInfo)\n",
    "        IsReapeatUntil = False      \n",
    "    \n",
    "    \n",
    "def trunLeft():\n",
    "    global strCodetype\n",
    "    repeatInfo.append({'codeType':'left'})\n",
    "    strCodetype += ' TrunLeft '\n",
    "    labelCodetype['text'] = strCodetype\n",
    "    \n",
    "def trunRight():\n",
    "    global strCodetype\n",
    "    repeatInfo.append({'codeType':'right'})\n",
    "    strCodetype += ' TrunRight '\n",
    "    labelCodetype['text'] = strCodetype\n",
    "    \n",
    "def forward():\n",
    "    global strCodetype\n",
    "    repeatInfo.append({'codeType':'forward'})\n",
    "    strCodetype += ' Forward '\n",
    "    labelCodetype['text'] = strCodetype\n",
    "    \n",
    "def backward():\n",
    "    global strCodetype\n",
    "    repeatInfo.append({'codeType':'backward'})\n",
    "    strCodetype += ' Backward '\n",
    "    labelCodetype['text'] = strCodetype\n",
    "    \n",
    "def updateToScratch():\n",
    "    updateJson()\n",
    "    print(inputInfo)\n",
    "    updateToRepo()"
   ]
  },
  {
   "cell_type": "code",
   "execution_count": 12,
   "metadata": {},
   "outputs": [
    {
     "name": "stdout",
     "output_type": "stream",
     "text": [
      "codetype?arrayAdd\n",
      "codetype?1\n",
      "codetype?arrayAdd\n",
      "codetype?2\n",
      "codetype?arrayAdd\n",
      "codetype?3\n",
      "codetype?End\n",
      "[{'array': ['1', '2', '3']}]\n"
     ]
    }
   ],
   "source": [
    "inputCodetype()"
   ]
  },
  {
   "cell_type": "code",
   "execution_count": 13,
   "metadata": {
    "scrolled": true
   },
   "outputs": [
    {
     "name": "stdout",
     "output_type": "stream",
     "text": [
      "[{'array': ['1', '2', '3']}]\n"
     ]
    }
   ],
   "source": [
    "updateJson()"
   ]
  },
  {
   "cell_type": "code",
   "execution_count": 18,
   "metadata": {},
   "outputs": [
    {
     "ename": "NameError",
     "evalue": "name 'Github' is not defined",
     "output_type": "error",
     "traceback": [
      "\u001b[1;31m---------------------------------------------------------------------------\u001b[0m",
      "\u001b[1;31mNameError\u001b[0m                                 Traceback (most recent call last)",
      "\u001b[1;32m~\\AppData\\Local\\Temp/ipykernel_14560/1057785126.py\u001b[0m in \u001b[0;36m<module>\u001b[1;34m\u001b[0m\n\u001b[1;32m----> 1\u001b[1;33m \u001b[0mupdateToRepo\u001b[0m\u001b[1;33m(\u001b[0m\u001b[1;33m)\u001b[0m\u001b[1;33m\u001b[0m\u001b[1;33m\u001b[0m\u001b[0m\n\u001b[0m",
      "\u001b[1;32m~\\AppData\\Local\\Temp/ipykernel_14560/791193280.py\u001b[0m in \u001b[0;36mupdateToRepo\u001b[1;34m()\u001b[0m\n\u001b[0;32m      4\u001b[0m \u001b[1;33m\u001b[0m\u001b[0m\n\u001b[0;32m      5\u001b[0m \u001b[1;32mdef\u001b[0m \u001b[0mupdateToRepo\u001b[0m\u001b[1;33m(\u001b[0m\u001b[1;33m)\u001b[0m\u001b[1;33m:\u001b[0m\u001b[1;33m\u001b[0m\u001b[1;33m\u001b[0m\u001b[0m\n\u001b[1;32m----> 6\u001b[1;33m     \u001b[0muser\u001b[0m \u001b[1;33m=\u001b[0m \u001b[0mGithub\u001b[0m\u001b[1;33m(\u001b[0m\u001b[0musername\u001b[0m\u001b[1;33m,\u001b[0m \u001b[0mpassword\u001b[0m\u001b[1;33m)\u001b[0m\u001b[1;33m.\u001b[0m\u001b[0mget_user\u001b[0m\u001b[1;33m(\u001b[0m\u001b[1;33m)\u001b[0m\u001b[1;33m\u001b[0m\u001b[1;33m\u001b[0m\u001b[0m\n\u001b[0m\u001b[0;32m      7\u001b[0m     \u001b[0mdirfile\u001b[0m \u001b[1;33m=\u001b[0m \u001b[0mos\u001b[0m\u001b[1;33m.\u001b[0m\u001b[0mpath\u001b[0m\u001b[1;33m.\u001b[0m\u001b[0mabspath\u001b[0m\u001b[1;33m(\u001b[0m\u001b[1;34m'.'\u001b[0m\u001b[1;33m)\u001b[0m\u001b[1;33m\u001b[0m\u001b[1;33m\u001b[0m\u001b[0m\n\u001b[0;32m      8\u001b[0m     \u001b[0mrepo\u001b[0m \u001b[1;33m=\u001b[0m \u001b[0mRepo\u001b[0m\u001b[1;33m(\u001b[0m\u001b[0mdirfile\u001b[0m\u001b[1;33m)\u001b[0m\u001b[1;33m\u001b[0m\u001b[1;33m\u001b[0m\u001b[0m\n",
      "\u001b[1;31mNameError\u001b[0m: name 'Github' is not defined"
     ]
    }
   ],
   "source": [
    "updateToRepo()"
   ]
  },
  {
   "cell_type": "code",
   "execution_count": null,
   "metadata": {},
   "outputs": [],
   "source": []
  },
  {
   "cell_type": "code",
   "execution_count": null,
   "metadata": {},
   "outputs": [],
   "source": []
  },
  {
   "cell_type": "code",
   "execution_count": null,
   "metadata": {},
   "outputs": [],
   "source": []
  }
 ],
 "metadata": {
  "kernelspec": {
   "display_name": "Python 3 (ipykernel)",
   "language": "python",
   "name": "python3"
  },
  "language_info": {
   "codemirror_mode": {
    "name": "ipython",
    "version": 3
   },
   "file_extension": ".py",
   "mimetype": "text/x-python",
   "name": "python",
   "nbconvert_exporter": "python",
   "pygments_lexer": "ipython3",
   "version": "3.9.7"
  }
 },
 "nbformat": 4,
 "nbformat_minor": 4
}
