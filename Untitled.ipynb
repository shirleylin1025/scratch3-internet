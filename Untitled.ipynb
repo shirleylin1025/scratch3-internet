{
 "cells": [
  {
   "cell_type": "code",
   "execution_count": 1,
   "metadata": {},
   "outputs": [],
   "source": [
    "import json"
   ]
  },
  {
   "cell_type": "code",
   "execution_count": 2,
   "metadata": {
    "scrolled": true
   },
   "outputs": [],
   "source": [
    "#for repeatUntil fun\n",
    "inputInfo = []\n",
    "repeatInfo = []\n",
    "def inputCodetype():\n",
    "    inputInfo = []\n",
    "    while True:\n",
    "        codeType = input(\"codetype?\")\n",
    "        if codeType == \"repeatUntil\":\n",
    "            repeatInfo = []\n",
    "            while True:\n",
    "                codeType = input(\"codeType?\")\n",
    "                repeatInfo.append({'codeType':codeType})\n",
    "                if codeType == \"End\":\n",
    "                    inputInfo.append({'codeType':'repeatUntil','repeat':repeatInfo})\n",
    "                    break\n",
    "        if codeType == \"End\":\n",
    "            break\n",
    "    print(inputInfo)"
   ]
  },
  {
   "cell_type": "code",
   "execution_count": 3,
   "metadata": {},
   "outputs": [],
   "source": [
    "def updateJson():\n",
    "    file = 'scratch.json'\n",
    "    with open(file, 'w') as obj:\n",
    "        json.dump(inputInfo, obj)"
   ]
  },
  {
   "cell_type": "code",
   "execution_count": 4,
   "metadata": {},
   "outputs": [],
   "source": [
    "from git import Repo\n",
    "import os\n",
    "\n",
    "def updateToRepo():\n",
    "    dirfile = os.path.abspath('.') \n",
    "    repo = Repo(dirfile)\n",
    "\n",
    "    g = repo.git\n",
    "    g.add(\"--all\")\n",
    "    g.commit(\"-m auto update\")\n",
    "    g.push()\n",
    "    print(\"Successful push!\")\n",
    "\n"
   ]
  },
  {
   "cell_type": "code",
   "execution_count": 5,
   "metadata": {},
   "outputs": [
    {
     "name": "stdout",
     "output_type": "stream",
     "text": [
      "[]\n",
      "[]\n"
     ]
    },
    {
     "name": "stderr",
     "output_type": "stream",
     "text": [
      "Exception in Tkinter callback\n",
      "Traceback (most recent call last):\n",
      "  File \"/Users/linyuxuan/opt/anaconda3/lib/python3.8/tkinter/__init__.py\", line 1883, in __call__\n",
      "    return self.func(*args)\n",
      "  File \"<ipython-input-5-80f4aa3f1d61>\", line 59, in updateToScratch\n",
      "    updateToRepo()\n",
      "  File \"<ipython-input-4-56229f8dcbf4>\", line 10, in updateToRepo\n",
      "    g.commit(\"-m auto update\")\n",
      "  File \"/Users/linyuxuan/opt/anaconda3/lib/python3.8/site-packages/git/cmd.py\", line 585, in <lambda>\n",
      "    return lambda *args, **kwargs: self._call_process(name, *args, **kwargs)\n",
      "  File \"/Users/linyuxuan/opt/anaconda3/lib/python3.8/site-packages/git/cmd.py\", line 1124, in _call_process\n",
      "    return self.execute(call, **exec_kwargs)\n",
      "  File \"/Users/linyuxuan/opt/anaconda3/lib/python3.8/site-packages/git/cmd.py\", line 928, in execute\n",
      "    raise GitCommandError(redacted_command, status, stderr_value, stdout_value)\n",
      "git.exc.GitCommandError: Cmd('git') failed due to: exit code(1)\n",
      "  cmdline: git commit -m auto update\n",
      "  stdout: 'On branch master\n",
      "Your branch is up-to-date with 'origin/master'.\n",
      "nothing to commit, working tree clean'\n"
     ]
    }
   ],
   "source": [
    "import tkinter as tk\n",
    "\n",
    "window = tk.Tk()\n",
    "window.geometry('800x100')\n",
    "\n",
    "strCodetype = 'code type:'\n",
    "labelCodetype = tk.Label(window, text=strCodetype)\n",
    "labelCodetype.place(x = 0, y = 30)\n",
    "\n",
    "\n",
    "IsReapeatUntil = False\n",
    "repeatInfo = []\n",
    "inputInfo = []\n",
    "\n",
    "def repeatUntil():\n",
    "    global IsReapeatUntil, repeatInfo, inputInfo, strCodetype\n",
    "    if not IsReapeatUntil :\n",
    "        buttonRepeatUntil['fg']='red'\n",
    "        IsReapeatUntil = True\n",
    "        repeatInfo = []\n",
    "        strCodetype += ' Repeat '\n",
    "        labelCodetype['text'] = strCodetype\n",
    "        print(repeatInfo)\n",
    "        \n",
    "    else :\n",
    "        buttonRepeatUntil['fg']='black'\n",
    "        inputInfo.append({'codeType':'repeatUntil','repeat':repeatInfo})\n",
    "        print(inputInfo)\n",
    "        IsReapeatUntil = False      \n",
    "    \n",
    "    \n",
    "def trunLeft():\n",
    "    global strCodetype\n",
    "    repeatInfo.append({'codeType':'left'})\n",
    "    strCodetype += ' Trun left '\n",
    "    labelCodetype['text'] = strCodetype\n",
    "    \n",
    "def trunRight():\n",
    "    global strCodetype\n",
    "    repeatInfo.append({'codeType':'right'})\n",
    "    strCodetype += ' Trun right '\n",
    "    labelCodetype['text'] = strCodetype\n",
    "    \n",
    "def forward():\n",
    "    global strCodetype\n",
    "    repeatInfo.append({'codeType':'forward'})\n",
    "    strCodetype += ' Forward '\n",
    "    labelCodetype['text'] = strCodetype\n",
    "    \n",
    "def backward():\n",
    "    global strCodetype\n",
    "    repeatInfo.append({'codeType':'backward'})\n",
    "    strCodetype += ' Backward '\n",
    "    labelCodetype['text'] = strCodetype\n",
    "    \n",
    "def updateToScratch():\n",
    "    updateJson()\n",
    "    print(inputInfo)\n",
    "    updateToRepo()\n",
    "\n",
    "\n",
    "    \n",
    "buttonRepeatUntil = tk.Button(window, text='repeat until' , command = repeatUntil)\n",
    "buttonRepeatUntil.pack()\n",
    "buttonRepeatUntil.place(x = 0, y = 0)\n",
    "\n",
    "buttonForward = tk.Button(window, text='forward', command = forward)\n",
    "buttonForward.place(x = 450, y = 0)\n",
    "\n",
    "buttonBackward = tk.Button(window, text='backward~', command = backward)\n",
    "buttonBackward.place(x = 600, y = 0)\n",
    "\n",
    "buttonTrunLeft = tk.Button(window, text='turn left', command = trunLeft)\n",
    "buttonTrunLeft.place(x = 150, y = 0)\n",
    "\n",
    "buttonTrunRight = tk.Button(window, text='turn right', command = trunRight)\n",
    "buttonTrunRight.place(x = 300, y = 0)\n",
    "\n",
    "\n",
    "buttonUpdateToScratch = tk.Button(window, text='updateToScratch', command = updateToScratch)\n",
    "buttonUpdateToScratch.place(x = 0, y = 50)\n",
    "\n",
    "\n",
    "\n",
    "window.mainloop()"
   ]
  },
  {
   "cell_type": "code",
   "execution_count": null,
   "metadata": {},
   "outputs": [],
   "source": []
  },
  {
   "cell_type": "code",
   "execution_count": null,
   "metadata": {},
   "outputs": [],
   "source": []
  },
  {
   "cell_type": "code",
   "execution_count": null,
   "metadata": {},
   "outputs": [],
   "source": []
  },
  {
   "cell_type": "code",
   "execution_count": null,
   "metadata": {},
   "outputs": [],
   "source": []
  },
  {
   "cell_type": "code",
   "execution_count": null,
   "metadata": {},
   "outputs": [],
   "source": []
  },
  {
   "cell_type": "code",
   "execution_count": null,
   "metadata": {},
   "outputs": [],
   "source": []
  }
 ],
 "metadata": {
  "kernelspec": {
   "display_name": "Python 3",
   "language": "python",
   "name": "python3"
  },
  "language_info": {
   "codemirror_mode": {
    "name": "ipython",
    "version": 3
   },
   "file_extension": ".py",
   "mimetype": "text/x-python",
   "name": "python",
   "nbconvert_exporter": "python",
   "pygments_lexer": "ipython3",
   "version": "3.8.5"
  }
 },
 "nbformat": 4,
 "nbformat_minor": 4
}
