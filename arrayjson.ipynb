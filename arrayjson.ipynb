{
 "cells": [
  {
   "cell_type": "code",
   "execution_count": 28,
   "metadata": {},
   "outputs": [],
   "source": [
    "import json"
   ]
  },
  {
   "cell_type": "code",
   "execution_count": 1,
   "metadata": {
    "scrolled": true
   },
   "outputs": [],
   "source": [
    "#for repeatUntil fun\n",
    "inputInfo = {}\n",
    "repeatInfo = []\n",
    "defineInfo = {}\n",
    "def inputCodetype():\n",
    "    codeType = input(\"codetype?\")\n",
    "    \n",
    "    if codeType == 'arrayAdd':\n",
    "        arrayAdd()\n",
    "        \n",
    "    if codeType == 'define':\n",
    "        define()\n",
    "        \n",
    "    print(inputInfo)"
   ]
  },
  {
   "cell_type": "code",
   "execution_count": 31,
   "metadata": {},
   "outputs": [],
   "source": [
    "def updateJson():\n",
    "    global inputInfo\n",
    "    print(inputInfo)\n",
    "    file = 'array.json'\n",
    "    with open(file, 'w', encoding='utf-8') as obj:\n",
    "        json.dump(inputInfo, obj)"
   ]
  },
  {
   "cell_type": "code",
   "execution_count": 35,
   "metadata": {},
   "outputs": [],
   "source": [
    "from git import Repo\n",
    "\n",
    "import os\n",
    "\n",
    "def updateToRepo():\n",
    "\n",
    "    dirfile = os.path.abspath('.') \n",
    "    repo = Repo(dirfile)\n",
    "\n",
    "    g = repo.git\n",
    "    g.add(\"array.json\")\n",
    "    g.commit(\"-m auto update\")\n",
    "    g.push()\n",
    "    print(\"Successful push!\")\n",
    "\n"
   ]
  },
  {
   "cell_type": "code",
   "execution_count": 4,
   "metadata": {},
   "outputs": [],
   "source": [
    "\n",
    "def repeatUntil():\n",
    "    global IsReapeatUntil, repeatInfo, inputInfo, strCodetype\n",
    "    if not IsReapeatUntil :\n",
    "        buttonRepeatUntil['fg']='red'\n",
    "        IsReapeatUntil = True\n",
    "        repeatInfo = []\n",
    "        strCodetype += ' Repeat '\n",
    "        labelCodetype['text'] = strCodetype\n",
    "        print(repeatInfo)\n",
    "        \n",
    "    else :\n",
    "        buttonRepeatUntil['fg']='black'\n",
    "        inputInfo.append({'codeType':'repeatUntil','repeat':repeatInfo})\n",
    "        print(inputInfo)\n",
    "        IsReapeatUntil = False      \n",
    "    \n",
    "    \n",
    "def trunLeft():\n",
    "    global strCodetype\n",
    "    repeatInfo.append({'codeType':'left'})\n",
    "    strCodetype += ' TrunLeft '\n",
    "    labelCodetype['text'] = strCodetype\n",
    "    \n",
    "def trunRight():\n",
    "    global strCodetype\n",
    "    repeatInfo.append({'codeType':'right'})\n",
    "    strCodetype += ' TrunRight '\n",
    "    labelCodetype['text'] = strCodetype\n",
    "    \n",
    "def forward():\n",
    "    global strCodetype\n",
    "    repeatInfo.append({'codeType':'forward'})\n",
    "    strCodetype += ' Forward '\n",
    "    labelCodetype['text'] = strCodetype\n",
    "    \n",
    "def backward():\n",
    "    global strCodetype\n",
    "    repeatInfo.append({'codeType':'backward'})\n",
    "    strCodetype += ' Backward '\n",
    "    labelCodetype['text'] = strCodetype\n",
    "    \n",
    "def updateToScratch():\n",
    "    updateJson()\n",
    "    print(inputInfo)\n",
    "    updateToRepo()"
   ]
  },
  {
   "cell_type": "code",
   "execution_count": 25,
   "metadata": {},
   "outputs": [],
   "source": [
    "def arrayAdd():\n",
    "    arrayInfo = []\n",
    "    inputInfo.update({'arrayAdd':arrayInfo})\n",
    "    arrayItem = input(\"item?\")\n",
    "    arrayInfo.append(arrayItem)\n",
    "    while True:\n",
    "        codeType = input(\"codetype?\")\n",
    "        if codeType == 'arrayAdd':\n",
    "            arrayItem = input(\"item?\")\n",
    "            arrayInfo.append(arrayItem)\n",
    "        if codeType == \"End\":\n",
    "            print(inputInfo)\n",
    "            inputInfo.update({'arrayAdd':arrayInfo})\n",
    "            break"
   ]
  },
  {
   "cell_type": "code",
   "execution_count": 6,
   "metadata": {},
   "outputs": [],
   "source": [
    "def define():\n",
    "    inputInfo.update({'define':defineInfo})\n",
    "    while True:\n",
    "        defineItem = input(\"codetype?\")\n",
    "        if defineItem == \"End\":\n",
    "            break\n",
    "        if defineItem == 'set':\n",
    "            setItemInfo = []\n",
    "            setItem = input(\"set?\") # set \"A\" to B\n",
    "            setItemInfo.append(setItem)\n",
    "            setItem = input(\"set?\") # set A to \"B\"\n",
    "            setItemInfo.append(setItem)\n",
    "            defineInfo.update({'set':setItemInfo})\n",
    "        if defineItem == 'replace':\n",
    "            replaceItemInfo = []\n",
    "            replaceItem = input(\"replace?\") # replace \"A\" with B\n",
    "            replaceItemInfo.append(replaceItem)\n",
    "            replaceItem = input(\"replace?\") # replace A with \"B\"\n",
    "            replaceItemInfo.append(replaceItem)\n",
    "            defineInfo.update({'replace':replaceItemInfo})"
   ]
  },
  {
   "cell_type": "code",
   "execution_count": 26,
   "metadata": {
    "scrolled": false
   },
   "outputs": [
    {
     "name": "stdout",
     "output_type": "stream",
     "text": [
      "codetype?arrayAdd\n",
      "item?10\n",
      "codetype?arrayAdd\n",
      "item?7\n",
      "codetype?arrayAdd\n",
      "item?3\n",
      "codetype?arrayAdd\n",
      "item?1\n",
      "codetype?arrayAdd\n",
      "item?6\n",
      "codetype?End\n",
      "{'arrayAdd': ['10', '7', '3', '1', '6']}\n",
      "{'arrayAdd': ['10', '7', '3', '1', '6']}\n"
     ]
    }
   ],
   "source": [
    "inputCodetype()"
   ]
  },
  {
   "cell_type": "code",
   "execution_count": 32,
   "metadata": {
    "scrolled": true
   },
   "outputs": [
    {
     "name": "stdout",
     "output_type": "stream",
     "text": [
      "{'arrayAdd': ['10', '7', '3', '1', '6']}\n"
     ]
    }
   ],
   "source": [
    "updateJson()"
   ]
  },
  {
   "cell_type": "code",
   "execution_count": 36,
   "metadata": {},
   "outputs": [
    {
     "name": "stdout",
     "output_type": "stream",
     "text": [
      "Successful push!\n"
     ]
    }
   ],
   "source": [
    "updateToRepo()"
   ]
  },
  {
   "cell_type": "code",
   "execution_count": null,
   "metadata": {},
   "outputs": [],
   "source": []
  },
  {
   "cell_type": "code",
   "execution_count": null,
   "metadata": {},
   "outputs": [],
   "source": []
  },
  {
   "cell_type": "code",
   "execution_count": null,
   "metadata": {},
   "outputs": [],
   "source": []
  }
 ],
 "metadata": {
  "kernelspec": {
   "display_name": "Python 3",
   "language": "python",
   "name": "python3"
  },
  "language_info": {
   "codemirror_mode": {
    "name": "ipython",
    "version": 3
   },
   "file_extension": ".py",
   "mimetype": "text/x-python",
   "name": "python",
   "nbconvert_exporter": "python",
   "pygments_lexer": "ipython3",
   "version": "3.8.5"
  }
 },
 "nbformat": 4,
 "nbformat_minor": 4
}
